{
  "nbformat": 4,
  "nbformat_minor": 0,
  "metadata": {
    "colab": {
      "provenance": []
    },
    "kernelspec": {
      "name": "python3",
      "display_name": "Python 3"
    },
    "language_info": {
      "name": "python"
    }
  },
  "cells": [
    {
      "cell_type": "markdown",
      "source": [
        "#**Ice Cream Sales Prediction Notebook**"
      ],
      "metadata": {
        "id": "M0dn3TYnSpSf"
      }
    },
    {
      "cell_type": "markdown",
      "source": [
        "##Understanding Regression Evaluation Metrics\n",
        "###Python (numpy, matplotlib, scikit-learn)"
      ],
      "metadata": {
        "id": "YnwgG-I0SrqK"
      }
    },
    {
      "cell_type": "code",
      "source": [
        "# First, let's set up our ice cream sales data\n",
        "import numpy as np\n",
        "\n",
        "temperature = np.array([70, 75, 80, 85, 90])  # in °F\n",
        "sales = np.array([20, 25, 30, 35, 40])         # ice creams sold\n",
        "\n",
        "print(\"When temperature goes up, sales go up:\")\n",
        "for temp, sale in zip(temperature, sales):\n",
        "    print(f\"{temp}°F → {sale} ice creams\")"
      ],
      "metadata": {
        "colab": {
          "base_uri": "https://localhost:8080/"
        },
        "id": "aILPVuegUN11",
        "outputId": "2d6d5a0c-b105-4c9c-d8d4-01a80712fcb2"
      },
      "execution_count": 1,
      "outputs": [
        {
          "output_type": "stream",
          "name": "stdout",
          "text": [
            "When temperature goes up, sales go up:\n",
            "70°F → 20 ice creams\n",
            "75°F → 25 ice creams\n",
            "80°F → 30 ice creams\n",
            "85°F → 35 ice creams\n",
            "90°F → 40 ice creams\n"
          ]
        }
      ]
    },
    {
      "cell_type": "markdown",
      "source": [
        "###**1. Why We Need Evaluation Metrics**\n",
        "Imagine you're the ice cream shop manager. You want to know:\n",
        "\n",
        "How good are our temperature-based predictions?\n",
        "\n",
        "How many extra ice creams should we prepare?\n",
        "\n",
        "Is temperature really the main factor affecting sales?\n",
        "\n",
        "That's what these metrics tell us!\n",
        "\n"
      ],
      "metadata": {
        "id": "xnFalH1bUZ7i"
      }
    },
    {
      "cell_type": "markdown",
      "source": [
        "###**2. The Four Key Metrics (Simplified)**"
      ],
      "metadata": {
        "id": "9Qc__whJVTMG"
      }
    },
    {
      "cell_type": "code",
      "source": [
        "# Let's say our predictions were slightly off\n",
        "predicted = np.array([22, 25, 28, 33, 38])\n",
        "errors = sales - predicted\n",
        "\n",
        "print(\"\\nOur predictions vs reality:\")\n",
        "for temp, real, pred in zip(temperature, sales, predicted):\n",
        "    print(f\"{temp}°F: Predicted {pred}, Actual {real} → Error {real-pred}\")"
      ],
      "metadata": {
        "colab": {
          "base_uri": "https://localhost:8080/"
        },
        "id": "lcQa78AFVVeo",
        "outputId": "95852722-a3be-47d4-a7c4-b0b53d08fd27"
      },
      "execution_count": 2,
      "outputs": [
        {
          "output_type": "stream",
          "name": "stdout",
          "text": [
            "\n",
            "Our predictions vs reality:\n",
            "70°F: Predicted 22, Actual 20 → Error -2\n",
            "75°F: Predicted 25, Actual 25 → Error 0\n",
            "80°F: Predicted 28, Actual 30 → Error 2\n",
            "85°F: Predicted 33, Actual 35 → Error 2\n",
            "90°F: Predicted 38, Actual 40 → Error 2\n"
          ]
        }
      ]
    },
    {
      "cell_type": "markdown",
      "source": [
        "####**Metric 1: MAE (Mean Absolute Error)**\n",
        "\"How many ice creams are we usually off by?\""
      ],
      "metadata": {
        "id": "OQLrIb0TVgrS"
      }
    },
    {
      "cell_type": "code",
      "source": [
        "mae = np.mean(np.abs(errors))\n",
        "print(f\"\\nMAE: {mae:.1f} ice creams\")\n",
        "print(\"This means on average, we're off by\", mae, \"ice creams per day\")"
      ],
      "metadata": {
        "colab": {
          "base_uri": "https://localhost:8080/"
        },
        "id": "UxmcBjCrVxoc",
        "outputId": "1c6a555f-d00e-4786-c195-b94db804a73d"
      },
      "execution_count": 3,
      "outputs": [
        {
          "output_type": "stream",
          "name": "stdout",
          "text": [
            "\n",
            "MAE: 1.6 ice creams\n",
            "This means on average, we're off by 1.6 ice creams per day\n"
          ]
        }
      ]
    },
    {
      "cell_type": "markdown",
      "source": [
        "**Example:**\n",
        "If MAE is 1.5, we'll prepare 1-2 extra ice creams daily \"just in case\""
      ],
      "metadata": {
        "id": "_kreNdGNWMM9"
      }
    },
    {
      "cell_type": "markdown",
      "source": [
        "####**Metric 2: MSE (Mean Squared Error)**\n",
        "\"Are we making any huge mistakes?\""
      ],
      "metadata": {
        "id": "pMqNpCdxWU2-"
      }
    },
    {
      "cell_type": "code",
      "source": [
        "mse = np.mean(errors**2)\n",
        "print(f\"\\nMSE: {mse:.1f}\")\n",
        "print(\"Big errors (like being off by 3) hurt more than small ones (off by 1)\")"
      ],
      "metadata": {
        "colab": {
          "base_uri": "https://localhost:8080/"
        },
        "id": "oRFMFTDjWmIn",
        "outputId": "e0fc3c39-df51-4a0c-c91f-beeb9d0a6d6b"
      },
      "execution_count": 4,
      "outputs": [
        {
          "output_type": "stream",
          "name": "stdout",
          "text": [
            "\n",
            "MSE: 3.2\n",
            "Big errors (like being off by 3) hurt more than small ones (off by 1)\n"
          ]
        }
      ]
    },
    {
      "cell_type": "markdown",
      "source": [
        "**Why?**\n",
        "\n",
        "Being off by 1 → 1² = 1\n",
        "\n",
        "Being off by 3 → 3² = 9 (much worse!)"
      ],
      "metadata": {
        "id": "wtYDcDkgW3-k"
      }
    },
    {
      "cell_type": "markdown",
      "source": [
        "####**Metric 3: RMSE (Root Mean Squared Error)**\n",
        "\"MSE but back to ice cream numbers\""
      ],
      "metadata": {
        "id": "BF1cnDr3XENa"
      }
    },
    {
      "cell_type": "code",
      "source": [
        "rmse = np.sqrt(mse)\n",
        "print(f\"\\nRMSE: {rmse:.1f} ice creams\")\n",
        "print(\"Similar to MAE, but gives more weight to bad days\")"
      ],
      "metadata": {
        "colab": {
          "base_uri": "https://localhost:8080/"
        },
        "id": "fAGgqy_rXTnE",
        "outputId": "94a6547d-8d95-483b-afee-363d1e6f428c"
      },
      "execution_count": 5,
      "outputs": [
        {
          "output_type": "stream",
          "name": "stdout",
          "text": [
            "\n",
            "RMSE: 1.8 ice creams\n",
            "Similar to MAE, but gives more weight to bad days\n"
          ]
        }
      ]
    },
    {
      "cell_type": "markdown",
      "source": [
        "**Shop Use:**\n",
        "If RMSE is 2, most days we're within ±2 ice creams"
      ],
      "metadata": {
        "id": "q6pXGbTYXiCx"
      }
    },
    {
      "cell_type": "markdown",
      "source": [
        "####**Metric 4: R-squared (R²)**\n",
        "\"Does temperature really explain sales?\""
      ],
      "metadata": {
        "id": "bAoA4_a-XzUZ"
      }
    },
    {
      "cell_type": "code",
      "source": [
        "# Calculate R² manually for understanding\n",
        "mean_sales = np.mean(sales)\n",
        "total_variance = np.sum((sales - mean_sales)**2)\n",
        "explained_variance = total_variance - np.sum(errors**2)\n",
        "r2 = explained_variance / total_variance\n",
        "\n",
        "print(f\"\\nR²: {r2:.2f}\")\n",
        "print(f\"{r2*100:.0f}% of sales changes are explained by temperature\")\n",
        "print(\"0% = random guessing, 100% = perfect prediction\")"
      ],
      "metadata": {
        "colab": {
          "base_uri": "https://localhost:8080/"
        },
        "id": "zVVytlH_X4Ay",
        "outputId": "e6a46005-6b5b-4a3e-e3c4-d15b061aa6f0"
      },
      "execution_count": 6,
      "outputs": [
        {
          "output_type": "stream",
          "name": "stdout",
          "text": [
            "\n",
            "R²: 0.94\n",
            "94% of sales changes are explained by temperature\n",
            "0% = random guessing, 100% = perfect prediction\n"
          ]
        }
      ]
    },
    {
      "cell_type": "markdown",
      "source": [
        "###**3. Complete Evaluation Code**"
      ],
      "metadata": {
        "id": "VPatMl7RYPzW"
      }
    },
    {
      "cell_type": "code",
      "source": [
        "from sklearn.metrics import mean_absolute_error, mean_squared_error, r2_score\n",
        "\n",
        "print(\"\\nProfessional Calculation:\")\n",
        "print(\"MAE:\", mean_absolute_error(sales, predicted))\n",
        "print(\"MSE:\", mean_squared_error(sales, predicted))\n",
        "print(\"RMSE:\", np.sqrt(mean_squared_error(sales, predicted)))\n",
        "print(\"R²:\", r2_score(sales, predicted))"
      ],
      "metadata": {
        "colab": {
          "base_uri": "https://localhost:8080/"
        },
        "id": "8RHCojBaYTzF",
        "outputId": "17107ad3-f148-445d-abc8-02492684f3eb"
      },
      "execution_count": 7,
      "outputs": [
        {
          "output_type": "stream",
          "name": "stdout",
          "text": [
            "\n",
            "Professional Calculation:\n",
            "MAE: 1.6\n",
            "MSE: 3.2\n",
            "RMSE: 1.7888543819998317\n",
            "R²: 0.9359999999999999\n"
          ]
        }
      ]
    },
    {
      "cell_type": "markdown",
      "source": [
        "###**4. Visualization**"
      ],
      "metadata": {
        "id": "IcBEpMhXYkv3"
      }
    },
    {
      "cell_type": "code",
      "source": [
        "import matplotlib.pyplot as plt\n",
        "\n",
        "plt.figure(figsize=(10,5))\n",
        "plt.scatter(temperature, sales, label='Actual Sales', color='blue')\n",
        "plt.plot(temperature, predicted, label='Predictions', color='red')\n",
        "\n",
        "# Add error lines\n",
        "for t, s, p in zip(temperature, sales, predicted):\n",
        "    plt.plot([t, t], [s, p], color='gray', linestyle='--')\n",
        "\n",
        "plt.title(\"Ice Cream Sales Prediction Errors\")\n",
        "plt.xlabel(\"Temperature (°F)\")\n",
        "plt.ylabel(\"Ice Creams Sold\")\n",
        "plt.legend()\n",
        "plt.show()"
      ],
      "metadata": {
        "colab": {
          "base_uri": "https://localhost:8080/",
          "height": 487
        },
        "id": "q7DNjnOgYqZ8",
        "outputId": "94e74549-76c6-491c-fe7a-5e70bf7e2a3c"
      },
      "execution_count": 8,
      "outputs": [
        {
          "output_type": "display_data",
          "data": {
            "text/plain": [
              "<Figure size 1000x500 with 1 Axes>"
            ],
            "image/png": "[encoded data removed]"
          },
          "metadata": {}
        }
      ]
    },
    {
      "cell_type": "markdown",
      "source": [
        "## **Key Takeaways Cheat Sheet**\n",
        "\n",
        "| Metric | What It Answers | Good For |\n",
        "|--------|-----------------|----------|\n",
        "| **MAE** | \"How many ice creams are we usually off by?\" | Daily preparation |\n",
        "| **MSE** | \"Are we making any huge mistakes?\" | Finding problem days |\n",
        "| **RMSE** | \"MAE but worse mistakes count more\" | Balanced view |\n",
        "| **R²** | \"Is temperature really controlling sales?\" | Model usefulness |\n"
      ],
      "metadata": {
        "id": "5E2gBv-SZCn8"
      }
    }
  ]
}